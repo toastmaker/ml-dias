{
 "cells": [
  {
   "cell_type": "code",
   "execution_count": null,
   "metadata": {
    "collapsed": true
   },
   "outputs": [],
   "source": [
    "%matplotlib inline\n",
    "import numpy as np\n",
    "import matplotlib.pyplot as plt\n",
    "from scipy import stats"
   ]
  },
  {
   "cell_type": "code",
   "execution_count": null,
   "metadata": {
    "collapsed": true
   },
   "outputs": [],
   "source": [
    "data = np.load('../data/sdss_photoz.npy')"
   ]
  },
  {
   "cell_type": "code",
   "execution_count": null,
   "metadata": {
    "collapsed": true
   },
   "outputs": [],
   "source": [
    "data = data[~(data<0).any(axis=1)]\n",
    "N = len(data)\n",
    "X = np.zeros((N, 4))\n",
    "X[:, 0] = data[:, 0] - data[:, 1] # u - g\n",
    "X[:, 1] = data[:, 1] - data[:, 2] # g - r\n",
    "X[:, 2] = data[:, 2] - data[:, 3] # r - i\n",
    "X[:, 3] = data[:, 3] - data[:, 4] # i - z\n",
    "z = data[:, 5] # redshift"
   ]
  },
  {
   "cell_type": "code",
   "execution_count": null,
   "metadata": {
    "collapsed": true
   },
   "outputs": [],
   "source": [
    "np.savez('sdss_photoz_ugrizz.npz', photom=data[:,:-1], redshift=z)\n",
    "np.savez('sdss_photoz_colorsz.npz', colors=X, redshift=z)"
   ]
  },
  {
   "cell_type": "code",
   "execution_count": null,
   "metadata": {
    "collapsed": true
   },
   "outputs": [],
   "source": [
    "X_train, X_test, z_train, z_test = train_test_split(X, z, test_size=0.25, random_state=42)"
   ]
  },
  {
   "cell_type": "code",
   "execution_count": null,
   "metadata": {
    "collapsed": true
   },
   "outputs": [],
   "source": [
    "from sklearn.tree import DecisionTreeRegressor\n",
    "clf = DecisionTreeRegressor(max_depth=20)\n",
    "clf.fit(X_train, z_train)\n",
    "z_pred = clf.predict(X_test)"
   ]
  },
  {
   "cell_type": "code",
   "execution_count": null,
   "metadata": {
    "collapsed": false
   },
   "outputs": [],
   "source": [
    "rms = np.sqrt(np.mean((z_test - z_pred) ** 2))\n",
    "print rms\n",
    "print len(z_test)\n",
    "print np.sum(abs(z_test - z_pred) > 1)"
   ]
  },
  {
   "cell_type": "code",
   "execution_count": null,
   "metadata": {
    "collapsed": false
   },
   "outputs": [],
   "source": [
    "ax = plt.axes()\n",
    "axis_lim = np.array([-0.01, 0.8])\n",
    "plt.scatter(z_test, z_pred, s=10)# , c='k', lw=0, s=4)\n",
    "plt.plot(axis_lim, axis_lim, '--k')\n",
    "\n",
    "plt.title('Photo-z: Decision Tree Regression')\n",
    "plt.xlabel(r'$\\mathrm{z_{true}}$', fontsize=14)\n",
    "plt.ylabel(r'$\\mathrm{z_{phot}}$', fontsize=14);"
   ]
  },
  {
   "cell_type": "code",
   "execution_count": null,
   "metadata": {
    "collapsed": true
   },
   "outputs": [],
   "source": [
    "from sklearn.ensemble import RandomForestRegressor"
   ]
  },
  {
   "cell_type": "code",
   "execution_count": null,
   "metadata": {
    "collapsed": true
   },
   "outputs": [],
   "source": [
    "clf = RandomForestRegressor(100)"
   ]
  },
  {
   "cell_type": "code",
   "execution_count": null,
   "metadata": {
    "collapsed": true
   },
   "outputs": [],
   "source": [
    "z_pred = clf.fit(X_train, z_train).predict(X_test)"
   ]
  },
  {
   "cell_type": "code",
   "execution_count": null,
   "metadata": {
    "collapsed": false
   },
   "outputs": [],
   "source": [
    "rms = np.sqrt(np.mean((z_test - z_pred) ** 2))\n",
    "print rms\n",
    "print len(z_test)\n",
    "print np.sum(abs(z_test - z_pred) > 1.)"
   ]
  },
  {
   "cell_type": "code",
   "execution_count": null,
   "metadata": {
    "collapsed": false
   },
   "outputs": [],
   "source": [
    "clf.score(X_test, z_test)"
   ]
  },
  {
   "cell_type": "code",
   "execution_count": null,
   "metadata": {
    "collapsed": false
   },
   "outputs": [],
   "source": [
    "ax = plt.axes()\n",
    "axis_lim = np.array([-0.01, 0.8])\n",
    "plt.scatter(z_test, z_pred, s=10)# , c='k', lw=0, s=4)\n",
    "plt.plot(axis_lim, axis_lim, '--k')\n",
    "\n",
    "plt.title('Photo-z: Random Forest Regression')\n",
    "plt.xlabel(r'$\\mathrm{z_{true}}$', fontsize=14)\n",
    "plt.ylabel(r'$\\mathrm{z_{phot}}$', fontsize=14);"
   ]
  },
  {
   "cell_type": "code",
   "execution_count": null,
   "metadata": {
    "collapsed": true
   },
   "outputs": [],
   "source": [
    "from sklearn.ensemble import GradientBoostingRegressor"
   ]
  },
  {
   "cell_type": "code",
   "execution_count": null,
   "metadata": {
    "collapsed": true
   },
   "outputs": [],
   "source": [
    "GradientBoostingRegressor?"
   ]
  },
  {
   "cell_type": "code",
   "execution_count": null,
   "metadata": {
    "collapsed": true
   },
   "outputs": [],
   "source": [
    "from sklearn.decomposition import PCA\n",
    "pca = PCA(n_components=4)\n",
    "X_pca = pca.fit_transform(X)"
   ]
  },
  {
   "cell_type": "code",
   "execution_count": null,
   "metadata": {
    "collapsed": true
   },
   "outputs": [],
   "source": [
    "X_train, X_test, z_train, z_test = train_test_split(X_pca, z, test_size=0.25, random_state=42)"
   ]
  },
  {
   "cell_type": "code",
   "execution_count": null,
   "metadata": {
    "collapsed": true
   },
   "outputs": [],
   "source": [
    "clf = GradientBoostingRegressor(learning_rate=0.1, n_estimators=100)"
   ]
  },
  {
   "cell_type": "code",
   "execution_count": null,
   "metadata": {
    "collapsed": true
   },
   "outputs": [],
   "source": [
    "z_pred = clf.fit(X_train, z_train).predict(X_test)"
   ]
  },
  {
   "cell_type": "code",
   "execution_count": null,
   "metadata": {
    "collapsed": false
   },
   "outputs": [],
   "source": [
    "clf.score(X_test, z_test)"
   ]
  },
  {
   "cell_type": "code",
   "execution_count": null,
   "metadata": {
    "collapsed": false
   },
   "outputs": [],
   "source": [
    "rms = np.sqrt(np.mean((z_test - z_pred) ** 2))\n",
    "print rms\n",
    "print len(z_test)\n",
    "print np.sum(abs(z_test - z_pred) > 1.)"
   ]
  },
  {
   "cell_type": "code",
   "execution_count": null,
   "metadata": {
    "collapsed": false
   },
   "outputs": [],
   "source": [
    "ax = plt.axes()\n",
    "axis_lim = np.array([-0.01, 0.8])\n",
    "plt.scatter(z_test, z_pred, s=10)# , c='k', lw=0, s=4)\n",
    "plt.plot(axis_lim, axis_lim, '--k')\n",
    "\n",
    "plt.title('Photo-z: Gradient Boosting Regression')\n",
    "plt.xlabel(r'$\\mathrm{z_{true}}$', fontsize=14)\n",
    "plt.ylabel(r'$\\mathrm{z_{phot}}$', fontsize=14);"
   ]
  },
  {
   "cell_type": "code",
   "execution_count": null,
   "metadata": {
    "collapsed": true
   },
   "outputs": [],
   "source": []
  }
 ],
 "metadata": {
  "kernelspec": {
   "display_name": "Python 2",
   "language": "python",
   "name": "python2"
  },
  "language_info": {
   "codemirror_mode": {
    "name": "ipython",
    "version": 2
   },
   "file_extension": ".py",
   "mimetype": "text/x-python",
   "name": "python",
   "nbconvert_exporter": "python",
   "pygments_lexer": "ipython2",
   "version": "2.7.11"
  }
 },
 "nbformat": 4,
 "nbformat_minor": 2
}
